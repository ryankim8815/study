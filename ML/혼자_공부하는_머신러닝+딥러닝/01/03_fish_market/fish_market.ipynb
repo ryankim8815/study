{
 "cells": [
  {
   "cell_type": "code",
   "execution_count": 30,
   "metadata": {},
   "outputs": [
    {
     "name": "stdout",
     "output_type": "stream",
     "text": [
      "Species = ['Bream' 'Roach' 'Whitefish' 'Parkki' 'Perch' 'Pike' 'Smelt']\n"
     ]
    },
    {
     "data": {
      "text/html": [
       "<div>\n",
       "<style scoped>\n",
       "    .dataframe tbody tr th:only-of-type {\n",
       "        vertical-align: middle;\n",
       "    }\n",
       "\n",
       "    .dataframe tbody tr th {\n",
       "        vertical-align: top;\n",
       "    }\n",
       "\n",
       "    .dataframe thead th {\n",
       "        text-align: right;\n",
       "    }\n",
       "</style>\n",
       "<table border=\"1\" class=\"dataframe\">\n",
       "  <thead>\n",
       "    <tr style=\"text-align: right;\">\n",
       "      <th></th>\n",
       "      <th>Species</th>\n",
       "      <th>Weight</th>\n",
       "      <th>Length1</th>\n",
       "      <th>Length2</th>\n",
       "      <th>Length3</th>\n",
       "      <th>Height</th>\n",
       "      <th>Width</th>\n",
       "    </tr>\n",
       "  </thead>\n",
       "  <tbody>\n",
       "    <tr>\n",
       "      <th>0</th>\n",
       "      <td>Bream</td>\n",
       "      <td>242.0</td>\n",
       "      <td>23.2</td>\n",
       "      <td>25.4</td>\n",
       "      <td>30.0</td>\n",
       "      <td>11.5200</td>\n",
       "      <td>4.0200</td>\n",
       "    </tr>\n",
       "    <tr>\n",
       "      <th>1</th>\n",
       "      <td>Bream</td>\n",
       "      <td>290.0</td>\n",
       "      <td>24.0</td>\n",
       "      <td>26.3</td>\n",
       "      <td>31.2</td>\n",
       "      <td>12.4800</td>\n",
       "      <td>4.3056</td>\n",
       "    </tr>\n",
       "    <tr>\n",
       "      <th>2</th>\n",
       "      <td>Bream</td>\n",
       "      <td>340.0</td>\n",
       "      <td>23.9</td>\n",
       "      <td>26.5</td>\n",
       "      <td>31.1</td>\n",
       "      <td>12.3778</td>\n",
       "      <td>4.6961</td>\n",
       "    </tr>\n",
       "    <tr>\n",
       "      <th>3</th>\n",
       "      <td>Bream</td>\n",
       "      <td>363.0</td>\n",
       "      <td>26.3</td>\n",
       "      <td>29.0</td>\n",
       "      <td>33.5</td>\n",
       "      <td>12.7300</td>\n",
       "      <td>4.4555</td>\n",
       "    </tr>\n",
       "    <tr>\n",
       "      <th>4</th>\n",
       "      <td>Bream</td>\n",
       "      <td>430.0</td>\n",
       "      <td>26.5</td>\n",
       "      <td>29.0</td>\n",
       "      <td>34.0</td>\n",
       "      <td>12.4440</td>\n",
       "      <td>5.1340</td>\n",
       "    </tr>\n",
       "  </tbody>\n",
       "</table>\n",
       "</div>"
      ],
      "text/plain": [
       "  Species  Weight  Length1  Length2  Length3   Height   Width\n",
       "0   Bream   242.0     23.2     25.4     30.0  11.5200  4.0200\n",
       "1   Bream   290.0     24.0     26.3     31.2  12.4800  4.3056\n",
       "2   Bream   340.0     23.9     26.5     31.1  12.3778  4.6961\n",
       "3   Bream   363.0     26.3     29.0     33.5  12.7300  4.4555\n",
       "4   Bream   430.0     26.5     29.0     34.0  12.4440  5.1340"
      ]
     },
     "execution_count": 30,
     "metadata": {},
     "output_type": "execute_result"
    }
   ],
   "source": [
    "import numpy as np\n",
    "import pandas as pd\n",
    "import matplotlib.pyplot as plt\n",
    "\n",
    "df= pd.read_csv('./Fish.csv')\n",
    "print(f'Species = {df['Species'].unique()}')\n",
    "df.head()"
   ]
  },
  {
   "cell_type": "code",
   "execution_count": 43,
   "metadata": {},
   "outputs": [
    {
     "data": {
      "image/png": "[encoded data removed]",
      "text/plain": [
       "<Figure size 640x480 with 1 Axes>"
      ]
     },
     "metadata": {},
     "output_type": "display_data"
    }
   ],
   "source": [
    "# Define the columns to plot\n",
    "cols = ['Length1', 'Length2', 'Length3', 'Height', 'Width']\n",
    "bream_length = df[df['Species'] == 'Bream']['Length1'].to_list()\n",
    "bream_weight = df[df['Species'] == 'Bream']['Weight'].to_list()\n",
    "smelt_length = df[df['Species'] == 'Smelt']['Length1'].to_list()\n",
    "smelt_weight = df[df['Species'] == 'Smelt']['Weight'].to_list()\n",
    "\n",
    "plt.scatter(bream_length, bream_weight, label='Bream')\n",
    "plt.scatter(smelt_length, smelt_weight, label='Smelt')\n",
    "plt.title('Bream and Smelt Scatter Plot') # 산점도(Scatter Plot) 그래프 제목\n",
    "plt.xlabel('Length')\n",
    "plt.ylabel('Weight')\n",
    "plt.legend()\n",
    "plt.show()  # Show the figure for each species\n"
   ]
  },
  {
   "cell_type": "code",
   "execution_count": 51,
   "metadata": {},
   "outputs": [
    {
     "name": "stdout",
     "output_type": "stream",
     "text": [
      "len(bream) = 63\n",
      "len(smelt) = 14\n",
      "length = [23.2, 24.0, 23.9, 26.3, 26.5, 26.8, 26.8, 27.6, 27.6, 28.5, 28.4, 28.7, 29.1, 29.5, 29.4, 29.4, 30.4, 30.4, 30.9, 31.0, 31.3, 31.4, 31.5, 31.8, 31.9, 31.8, 32.0, 32.7, 32.8, 33.5, 35.0, 35.0, 36.2, 37.4, 38.0, 9.3, 10.0, 10.1, 10.4, 10.7, 10.8, 11.3, 11.3, 11.4, 11.5, 11.7, 12.1, 13.2, 13.8, 9.3, 10.0, 10.1, 10.4, 10.7, 10.8, 11.3, 11.3, 11.4, 11.5, 11.7, 12.1, 13.2, 13.8, 9.3, 10.0, 10.1, 10.4, 10.7, 10.8, 11.3, 11.3, 11.4, 11.5, 11.7, 12.1, 13.2, 13.8]\n",
      "weight = [242.0, 290.0, 340.0, 363.0, 430.0, 450.0, 500.0, 390.0, 450.0, 500.0, 475.0, 500.0, 500.0, 340.0, 600.0, 600.0, 700.0, 700.0, 610.0, 650.0, 575.0, 685.0, 620.0, 680.0, 700.0, 725.0, 720.0, 714.0, 850.0, 1000.0, 920.0, 955.0, 925.0, 975.0, 950.0, 6.7, 7.5, 7.0, 9.7, 9.8, 8.7, 10.0, 9.9, 9.8, 12.2, 13.4, 12.2, 19.7, 19.9, 6.7, 7.5, 7.0, 9.7, 9.8, 8.7, 10.0, 9.9, 9.8, 12.2, 13.4, 12.2, 19.7, 19.9, 6.7, 7.5, 7.0, 9.7, 9.8, 8.7, 10.0, 9.9, 9.8, 12.2, 13.4, 12.2, 19.7, 19.9]\n",
      "fish_data = [[23.2, 242.0], [24.0, 290.0], [23.9, 340.0], [26.3, 363.0], [26.5, 430.0], [26.8, 450.0], [26.8, 500.0], [27.6, 390.0], [27.6, 450.0], [28.5, 500.0], [28.4, 475.0], [28.7, 500.0], [29.1, 500.0], [29.5, 340.0], [29.4, 600.0], [29.4, 600.0], [30.4, 700.0], [30.4, 700.0], [30.9, 610.0], [31.0, 650.0], [31.3, 575.0], [31.4, 685.0], [31.5, 620.0], [31.8, 680.0], [31.9, 700.0], [31.8, 725.0], [32.0, 720.0], [32.7, 714.0], [32.8, 850.0], [33.5, 1000.0], [35.0, 920.0], [35.0, 955.0], [36.2, 925.0], [37.4, 975.0], [38.0, 950.0], [9.3, 6.7], [10.0, 7.5], [10.1, 7.0], [10.4, 9.7], [10.7, 9.8], [10.8, 8.7], [11.3, 10.0], [11.3, 9.9], [11.4, 9.8], [11.5, 12.2], [11.7, 13.4], [12.1, 12.2], [13.2, 19.7], [13.8, 19.9], [9.3, 6.7], [10.0, 7.5], [10.1, 7.0], [10.4, 9.7], [10.7, 9.8], [10.8, 8.7], [11.3, 10.0], [11.3, 9.9], [11.4, 9.8], [11.5, 12.2], [11.7, 13.4], [12.1, 12.2], [13.2, 19.7], [13.8, 19.9], [9.3, 6.7], [10.0, 7.5], [10.1, 7.0], [10.4, 9.7], [10.7, 9.8], [10.8, 8.7], [11.3, 10.0], [11.3, 9.9], [11.4, 9.8], [11.5, 12.2], [11.7, 13.4], [12.1, 12.2], [13.2, 19.7], [13.8, 19.9]]\n"
     ]
    }
   ],
   "source": [
    "\n",
    "print(f'len(bream) = {len(bream_length)}')\n",
    "print(f'len(smelt) = {len(smelt_length)}')\n",
    "length = bream_length + smelt_length\n",
    "weight = bream_weight + smelt_weight\n",
    "print(f'length = {length}')\n",
    "print(f'weight = {weight}')\n",
    "\n",
    "fish_data = [[l, w] for l, w in zip(length, weight)]\n",
    "print(f'fish_data = {fish_data}')"
   ]
  },
  {
   "cell_type": "code",
   "execution_count": 52,
   "metadata": {},
   "outputs": [
    {
     "name": "stdout",
     "output_type": "stream",
     "text": [
      "fish_target = [1, 1, 1, 1, 1, 1, 1, 1, 1, 1, 1, 1, 1, 1, 1, 1, 1, 1, 1, 1, 1, 1, 1, 1, 1, 1, 1, 1, 1, 1, 1, 1, 1, 1, 1, 1, 1, 1, 1, 1, 1, 1, 1, 1, 1, 1, 1, 1, 1, 1, 1, 1, 1, 1, 1, 1, 1, 1, 1, 1, 1, 1, 1, 0, 0, 0, 0, 0, 0, 0, 0, 0, 0, 0, 0, 0, 0]\n"
     ]
    }
   ],
   "source": [
    "fish_target = [1]*63 + [0]*14\n",
    "print(f'fish_target = {fish_target}')"
   ]
  },
  {
   "cell_type": "markdown",
   "metadata": {},
   "source": [
    "### 훈련(Trainning)\n",
    "교재에서는 sklearn 라이브러리를 활용하였으나 현재 deprecated 상태인 관계로 아래 라이브러리로 대체함\n",
    "- 기존: sklearn  \n",
    "- 변경: scikit-learn\n",
    "\n",
    "특이사항: \n",
    "- 교재에서는 accuracy가 100%로 나왔으나, 실습 시 81.8%가 출력됨"
   ]
  },
  {
   "cell_type": "markdown",
   "metadata": {},
   "source": [
    "- 변경: scikit-learn\n",
    "\n",
    "```\n",
    "study [main] ⚡  pip3 install sklearn             \n",
    "Collecting sklearn\n",
    "  Downloading sklearn-0.0.post12.tar.gz (2.6 kB)\n",
    "  Preparing metadata (setup.py) ... error\n",
    "  error: subprocess-exited-with-error\n",
    "  \n",
    "  × python setup.py egg_info did not run successfully.\n",
    "  │ exit code: 1\n",
    "  ╰─> [15 lines of output]\n",
    "      The 'sklearn' PyPI package is deprecated, use 'scikit-learn'\n",
    "      rather than 'sklearn' for pip commands.\n",
    "      \n",
    "      Here is how to fix this error in the main use cases:\n",
    "      - use 'pip install scikit-learn' rather than 'pip install sklearn'\n",
    "      - replace 'sklearn' by 'scikit-learn' in your pip requirements files\n",
    "        (requirements.txt, setup.py, setup.cfg, Pipfile, etc ...)\n",
    "      - if the 'sklearn' package is used by one of your dependencies,\n",
    "        it would be great if you take some time to track which package uses\n"
   ]
  },
  {
   "cell_type": "markdown",
   "metadata": {},
   "source": [
    "        'sklearn' instead of 'scikit-learn' and report it to their issue tracker\n",
    "      - as a last resort, set the environment variable\n",
    "        SKLEARN_ALLOW_DEPRECATED_SKLEARN_PACKAGE_INSTALL=True to avoid this error\n",
    "      \n",
    "      More information is available at\n",
    "      https://github.com/scikit-learn/sklearn-pypi-package\n",
    "      [end of output]\n",
    "  \n",
    "  note: This error originates from a subprocess, and is likely not a problem with pip.\n",
    "error: metadata-generation-failed\n",
    "\n",
    "× Encountered error while generating package metadata.\n",
    "╰─> See above for output.\n",
    "\n",
    "note: This is an issue with the package mentioned above, not pip.\n",
    "hint: See above for details.\n",
    "```"
   ]
  },
  {
   "cell_type": "code",
   "execution_count": 54,
   "metadata": {},
   "outputs": [
    {
     "data": {
      "text/plain": [
       "0.8181818181818182"
      ]
     },
     "execution_count": 54,
     "metadata": {},
     "output_type": "execute_result"
    }
   ],
   "source": [
    "from sklearn.neighbors import KNeighborsClassifier\n",
    "\n",
    "kn = KNeighborsClassifier()\n",
    "kn.fit(fish_data, fish_target)\n",
    "kn.score(fish_data, fish_target)"
   ]
  },
  {
   "cell_type": "code",
   "execution_count": 55,
   "metadata": {},
   "outputs": [
    {
     "data": {
      "text/plain": [
       "0.8181818181818182"
      ]
     },
     "execution_count": 55,
     "metadata": {},
     "output_type": "execute_result"
    }
   ],
   "source": [
    "import sklearn\n",
    "\n",
    "model = sklearn.neighbors.KNeighborsClassifier\n",
    "\n",
    "kn = KNeighborsClassifier()\n",
    "kn.fit(fish_data, fish_target)\n",
    "kn.score(fish_data, fish_target)"
   ]
  },
  {
   "cell_type": "markdown",
   "metadata": {},
   "source": [
    "### 훈련된 모델 테스트\n",
    "훈련된 모델 kn을 사용하여 { length: number, weight: number } 데이터로 생성 종류를 분류해보기\n",
    "- 1: Bream\n",
    "- 2: Smelt"
   ]
  },
  {
   "cell_type": "code",
   "execution_count": 56,
   "metadata": {},
   "outputs": [
    {
     "data": {
      "text/plain": [
       "array([1])"
      ]
     },
     "execution_count": 56,
     "metadata": {},
     "output_type": "execute_result"
    }
   ],
   "source": [
    "kn.predict([[30, 600]])"
   ]
  },
  {
   "cell_type": "markdown",
   "metadata": {},
   "source": [
    "### 다른 모델 사용\n",
    "모델명: kn49\n",
    "- 설명:  가장 가까운 데이처 49개를 사용하는 모델\n",
    "\n",
    "KNeighborsClassifier 기본 값은 5"
   ]
  },
  {
   "cell_type": "code",
   "execution_count": 63,
   "metadata": {},
   "outputs": [
    {
     "data": {
      "text/plain": [
       "0.8181818181818182"
      ]
     },
     "execution_count": 63,
     "metadata": {},
     "output_type": "execute_result"
    }
   ],
   "source": [
    "kn49 = KNeighborsClassifier(n_neighbors=49) # 49개의 이웃을 사용, n_neighbors를 변경하는 경우 정확도가 변해야하지만 변하지 않음 (왜?!)\n",
    "\n",
    "kn49.fit(fish_data, fish_target)\n",
    "kn49.score(fish_data, fish_target)"
   ]
  }
 ],
 "metadata": {
  "kernelspec": {
   "display_name": "Python 3",
   "language": "python",
   "name": "python3"
  },
  "language_info": {
   "codemirror_mode": {
    "name": "ipython",
    "version": 3
   },
   "file_extension": ".py",
   "mimetype": "text/x-python",
   "name": "python",
   "nbconvert_exporter": "python",
   "pygments_lexer": "ipython3",
   "version": "3.12.3"
  }
 },
 "nbformat": 4,
 "nbformat_minor": 2
}
